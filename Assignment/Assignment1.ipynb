{
 "cells": [
  {
   "cell_type": "code",
   "execution_count": 1,
   "id": "5a148e31",
   "metadata": {
    "scrolled": true
   },
   "outputs": [
    {
     "data": {
      "text/html": [
       "<div>\n",
       "<style scoped>\n",
       "    .dataframe tbody tr th:only-of-type {\n",
       "        vertical-align: middle;\n",
       "    }\n",
       "\n",
       "    .dataframe tbody tr th {\n",
       "        vertical-align: top;\n",
       "    }\n",
       "\n",
       "    .dataframe thead th {\n",
       "        text-align: right;\n",
       "    }\n",
       "</style>\n",
       "<table border=\"1\" class=\"dataframe\">\n",
       "  <thead>\n",
       "    <tr style=\"text-align: right;\">\n",
       "      <th></th>\n",
       "      <th>Unnamed: 0</th>\n",
       "      <th>fname</th>\n",
       "      <th>label</th>\n",
       "      <th>split</th>\n",
       "    </tr>\n",
       "  </thead>\n",
       "  <tbody>\n",
       "    <tr>\n",
       "      <th>0</th>\n",
       "      <td>0</td>\n",
       "      <td>02639.npy</td>\n",
       "      <td>Bark</td>\n",
       "      <td>train</td>\n",
       "    </tr>\n",
       "    <tr>\n",
       "      <th>1</th>\n",
       "      <td>1</td>\n",
       "      <td>1580.npy</td>\n",
       "      <td>Bark</td>\n",
       "      <td>train</td>\n",
       "    </tr>\n",
       "    <tr>\n",
       "      <th>2</th>\n",
       "      <td>2</td>\n",
       "      <td>24030.npy</td>\n",
       "      <td>Bark</td>\n",
       "      <td>train</td>\n",
       "    </tr>\n",
       "    <tr>\n",
       "      <th>3</th>\n",
       "      <td>3</td>\n",
       "      <td>316499.npy</td>\n",
       "      <td>Bark</td>\n",
       "      <td>train</td>\n",
       "    </tr>\n",
       "    <tr>\n",
       "      <th>4</th>\n",
       "      <td>4</td>\n",
       "      <td>413718.npy</td>\n",
       "      <td>Bark</td>\n",
       "      <td>train</td>\n",
       "    </tr>\n",
       "  </tbody>\n",
       "</table>\n",
       "</div>"
      ],
      "text/plain": [
       "   Unnamed: 0       fname label  split\n",
       "0           0   02639.npy  Bark  train\n",
       "1           1    1580.npy  Bark  train\n",
       "2           2   24030.npy  Bark  train\n",
       "3           3  316499.npy  Bark  train\n",
       "4           4  413718.npy  Bark  train"
      ]
     },
     "execution_count": 1,
     "metadata": {},
     "output_type": "execute_result"
    }
   ],
   "source": [
    "import numpy as np\n",
    "import pandas as pd\n",
    "import matplotlib.pyplot as plt\n",
    "import os\n",
    "import pandas as pd\n",
    "path='annotations.csv'\n",
    "relative_path='train/train/'\n",
    "df=pd.read_csv(path)\n",
    "data=[]\n",
    "df.head()"
   ]
  },
  {
   "cell_type": "code",
   "execution_count": 2,
   "id": "eb4df828",
   "metadata": {},
   "outputs": [],
   "source": [
    "for x in df['fname']:\n",
    "    address=relative_path+x\n",
    "    data.append(np.load(address))"
   ]
  },
  {
   "cell_type": "code",
   "execution_count": 3,
   "id": "b001fc22",
   "metadata": {},
   "outputs": [
    {
     "data": {
      "text/plain": [
       "0                    Bark\n",
       "1                    Bark\n",
       "2                    Bark\n",
       "3                    Bark\n",
       "4                    Bark\n",
       "              ...        \n",
       "995    Walk_and_footsteps\n",
       "996    Walk_and_footsteps\n",
       "997    Walk_and_footsteps\n",
       "998    Walk_and_footsteps\n",
       "999    Walk_and_footsteps\n",
       "Name: label, Length: 1000, dtype: object"
      ]
     },
     "execution_count": 3,
     "metadata": {},
     "output_type": "execute_result"
    }
   ],
   "source": [
    "label=df['label']\n",
    "label"
   ]
  },
  {
   "cell_type": "code",
   "execution_count": 4,
   "id": "07ee1ef8",
   "metadata": {},
   "outputs": [
    {
     "data": {
      "text/plain": [
       "(2584, 29)"
      ]
     },
     "execution_count": 4,
     "metadata": {},
     "output_type": "execute_result"
    }
   ],
   "source": [
    "mx_dim=0\n",
    "mn_dim=10000\n",
    "for sz in data:\n",
    "    mx_dim=max(mx_dim,sz.shape[2])\n",
    "    mn_dim=min(mn_dim,sz.shape[2])\n",
    "mx_dim,mn_dim\n"
   ]
  },
  {
   "cell_type": "code",
   "execution_count": 5,
   "id": "8ca0281c",
   "metadata": {},
   "outputs": [],
   "source": [
    "final_data=[]\n",
    "for spectrogram in data:\n",
    "    x=spectrogram.flatten()\n",
    "    y=np.zeros((mx_dim-spectrogram.shape[2])*128)\n",
    "    x=np.append(x,y)\n",
    "    final_data.append(x)\n",
    "    "
   ]
  },
  {
   "cell_type": "code",
   "execution_count": 6,
   "id": "d957ed8f",
   "metadata": {},
   "outputs": [],
   "source": [
    "final_data=np.array(final_data)"
   ]
  },
  {
   "cell_type": "code",
   "execution_count": 7,
   "id": "2f7feb2c",
   "metadata": {},
   "outputs": [],
   "source": [
    "from sklearn.preprocessing import StandardScaler\n",
    "scaler=StandardScaler()\n",
    "final_data=scaler.fit_transform(final_data)\n"
   ]
  },
  {
   "cell_type": "code",
   "execution_count": 14,
   "id": "d57d84df",
   "metadata": {},
   "outputs": [],
   "source": [
    "from sklearn.preprocessing import OrdinalEncoder\n",
    "label=np.array(label)\n",
    "label=label.reshape(-1,1)\n",
    "oc=OrdinalEncoder()\n",
    "label=oc.fit_transform(label)\n"
   ]
  },
  {
   "cell_type": "code",
   "execution_count": 15,
   "id": "a09e2072",
   "metadata": {},
   "outputs": [],
   "source": [
    "from sklearn.model_selection import train_test_split\n",
    "train_x,test_x,train_y,test_y=train_test_split(final_data,label,test_size=0.2,random_state=42)"
   ]
  },
  {
   "cell_type": "code",
   "execution_count": 16,
   "id": "6e8a5cad",
   "metadata": {},
   "outputs": [
    {
     "name": "stderr",
     "output_type": "stream",
     "text": [
      "C:\\Users\\DELL\\anaconda3\\lib\\site-packages\\sklearn\\utils\\validation.py:63: DataConversionWarning: A column-vector y was passed when a 1d array was expected. Please change the shape of y to (n_samples, ), for example using ravel().\n",
      "  return f(*args, **kwargs)\n",
      "C:\\Users\\DELL\\anaconda3\\lib\\site-packages\\sklearn\\linear_model\\_logistic.py:763: ConvergenceWarning: lbfgs failed to converge (status=1):\n",
      "STOP: TOTAL NO. of ITERATIONS REACHED LIMIT.\n",
      "\n",
      "Increase the number of iterations (max_iter) or scale the data as shown in:\n",
      "    https://scikit-learn.org/stable/modules/preprocessing.html\n",
      "Please also refer to the documentation for alternative solver options:\n",
      "    https://scikit-learn.org/stable/modules/linear_model.html#logistic-regression\n",
      "  n_iter_i = _check_optimize_result(\n"
     ]
    }
   ],
   "source": [
    "from sklearn.linear_model import LogisticRegression\n",
    "log_reg=LogisticRegression(max_iter=30)\n",
    "log_reg_clf=log_reg.fit(train_x,train_y)"
   ]
  },
  {
   "cell_type": "code",
   "execution_count": 17,
   "id": "b4b2de24",
   "metadata": {},
   "outputs": [
    {
     "name": "stdout",
     "output_type": "stream",
     "text": [
      "0.625\n"
     ]
    }
   ],
   "source": [
    "print(log_reg_clf.score(test_x,test_y))\n",
    "train_y_pred=log_reg.predict(train_x)"
   ]
  },
  {
   "cell_type": "code",
   "execution_count": 18,
   "id": "9b0ab360",
   "metadata": {},
   "outputs": [],
   "source": [
    "from sklearn.metrics import confusion_matrix\n",
    "confusion_log_clf=confusion_matrix(train_y_pred,train_y)"
   ]
  },
  {
   "cell_type": "code",
   "execution_count": 19,
   "id": "edd707fd",
   "metadata": {},
   "outputs": [
    {
     "data": {
      "text/plain": [
       "(64221, (800, 1))"
      ]
     },
     "execution_count": 19,
     "metadata": {},
     "output_type": "execute_result"
    }
   ],
   "source": [
    "p=(train_y_pred==train_y).sum()\n",
    "p,train_y.shape"
   ]
  },
  {
   "cell_type": "code",
   "execution_count": 20,
   "id": "074e31fd",
   "metadata": {},
   "outputs": [
    {
     "data": {
      "text/plain": [
       "0.9900172560319246"
      ]
     },
     "execution_count": 20,
     "metadata": {},
     "output_type": "execute_result"
    }
   ],
   "source": [
    "from sklearn.metrics import f1_score\n",
    "f1_score(train_y_pred,train_y,average='weighted')"
   ]
  },
  {
   "cell_type": "code",
   "execution_count": 40,
   "id": "877ad825",
   "metadata": {},
   "outputs": [
    {
     "name": "stdout",
     "output_type": "stream",
     "text": [
      "Model: \"sequential_6\"\n",
      "_________________________________________________________________\n",
      " Layer (type)                Output Shape              Param #   \n",
      "=================================================================\n",
      " dense_28 (Dense)            (None, 64)                21168192  \n",
      "                                                                 \n",
      " dense_29 (Dense)            (None, 32)                2080      \n",
      "                                                                 \n",
      " dense_30 (Dense)            (None, 16)                528       \n",
      "                                                                 \n",
      " dense_31 (Dense)            (None, 8)                 136       \n",
      "                                                                 \n",
      " dense_32 (Dense)            (None, 1)                 9         \n",
      "                                                                 \n",
      "=================================================================\n",
      "Total params: 21,170,945\n",
      "Trainable params: 21,170,945\n",
      "Non-trainable params: 0\n",
      "_________________________________________________________________\n",
      "None\n",
      "Epoch 1/10\n",
      "13/13 [==============================] - 28s 385ms/step - loss: nan - acc: 0.0900\n",
      "Epoch 2/10\n",
      "13/13 [==============================] - 3s 261ms/step - loss: nan - acc: 0.1000\n",
      "Epoch 3/10\n",
      "13/13 [==============================] - 3s 220ms/step - loss: nan - acc: 0.1000\n",
      "Epoch 4/10\n",
      "13/13 [==============================] - 3s 242ms/step - loss: nan - acc: 0.1000\n",
      "Epoch 5/10\n",
      "13/13 [==============================] - 3s 237ms/step - loss: nan - acc: 0.1000\n",
      "Epoch 6/10\n",
      "13/13 [==============================] - 3s 233ms/step - loss: nan - acc: 0.1000\n",
      "Epoch 7/10\n",
      "13/13 [==============================] - 3s 241ms/step - loss: nan - acc: 0.1000\n",
      "Epoch 8/10\n",
      "13/13 [==============================] - 3s 224ms/step - loss: nan - acc: 0.1000\n",
      "Epoch 9/10\n",
      "13/13 [==============================] - 3s 259ms/step - loss: nan - acc: 0.1000\n",
      "Epoch 10/10\n",
      "13/13 [==============================] - 3s 247ms/step - loss: nan - acc: 0.1000\n"
     ]
    }
   ],
   "source": [
    "from tensorflow.keras.models import Sequential\n",
    "from tensorflow.keras.utils import to_categorical\n",
    "from tensorflow.keras.layers import Dense\n",
    "import tensorflow as tf\n",
    "model1 = Sequential([\n",
    "    Dense(64, activation='tanh', input_shape = train_x[0].shape),\n",
    "    Dense(32, activation='relu'),\n",
    "    Dense(16, activation='relu'),\n",
    "    Dense(8, activation='relu'),\n",
    "    Dense(1, activation='softmax')\n",
    "])\n",
    "print(model1.summary())\n",
    "model1.compile(optimizer='sgd',loss='categorical_crossentropy', metrics=['acc'])\n",
    "\n",
    "hist = model1.fit(train_x, train_y, epochs=10, batch_size=64)"
   ]
  },
  {
   "cell_type": "code",
   "execution_count": 41,
   "id": "cb263031",
   "metadata": {},
   "outputs": [
    {
     "name": "stdout",
     "output_type": "stream",
     "text": [
      "25/25 [==============================] - 26s 1s/step\n"
     ]
    }
   ],
   "source": [
    "train_y_pred_softmax=model1.predict(train_x)\n"
   ]
  },
  {
   "cell_type": "code",
   "execution_count": 42,
   "id": "90481561",
   "metadata": {},
   "outputs": [
    {
     "data": {
      "text/plain": [
       "0"
      ]
     },
     "execution_count": 42,
     "metadata": {},
     "output_type": "execute_result"
    }
   ],
   "source": [
    "correct=(train_y_pred_softmax==train_y).sum()\n",
    "correct"
   ]
  },
  {
   "cell_type": "code",
   "execution_count": 43,
   "id": "930e4935",
   "metadata": {},
   "outputs": [
    {
     "name": "stdout",
     "output_type": "stream",
     "text": [
      "7/7 [==============================] - 17s 109ms/step - loss: nan - acc: 0.1000\n",
      "[nan, 0.10000000149011612]\n"
     ]
    }
   ],
   "source": [
    "print(model1.evaluate(test_x,test_y))"
   ]
  },
  {
   "cell_type": "code",
   "execution_count": null,
   "id": "8f51d76f",
   "metadata": {},
   "outputs": [],
   "source": []
  }
 ],
 "metadata": {
  "kernelspec": {
   "display_name": "Python 3",
   "language": "python",
   "name": "python3"
  },
  "language_info": {
   "codemirror_mode": {
    "name": "ipython",
    "version": 3
   },
   "file_extension": ".py",
   "mimetype": "text/x-python",
   "name": "python",
   "nbconvert_exporter": "python",
   "pygments_lexer": "ipython3",
   "version": "3.8.5"
  }
 },
 "nbformat": 4,
 "nbformat_minor": 5
}
