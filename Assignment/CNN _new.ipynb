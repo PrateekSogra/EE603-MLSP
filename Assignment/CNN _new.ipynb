{
  "nbformat": 4,
  "nbformat_minor": 0,
  "metadata": {
    "colab": {
      "provenance": []
    },
    "kernelspec": {
      "name": "python3",
      "display_name": "Python 3"
    },
    "language_info": {
      "name": "python"
    },
    "accelerator": "GPU"
  },
  "cells": [
    {
      "cell_type": "code",
      "execution_count": 17,
      "metadata": {
        "id": "0PFuNk8C1Nz_"
      },
      "outputs": [],
      "source": [
        "import matplotlib.pyplot as plt\n",
        "import numpy as np\n",
        "import tensorflow as tf\n",
        "import pandas as pd\n",
        "import csv\n",
        "from tensorflow import keras\n",
        "import keras\n",
        "import tensorflow.keras.models as models\n",
        "import tensorflow.keras.layers as layers\n",
        "from keras.models import Sequential\n",
        "from keras.layers import Dense, Conv2D, MaxPooling2D\n",
        "import matplotlib.pyplot as plt\n",
        "import librosa\n",
        "import seaborn as sns\n",
        "from sklearn.metrics import precision_recall_fscore_support\n",
        "from sklearn.metrics import confusion_matrix"
      ]
    },
    {
      "cell_type": "code",
      "source": [
        "from google.colab import drive\n",
        "drive.mount('/content/drive')"
      ],
      "metadata": {
        "colab": {
          "base_uri": "https://localhost:8080/"
        },
        "id": "g3Bz8uEx1XPj",
        "outputId": "322403c2-02a3-4178-e706-45f4bb12ad4c"
      },
      "execution_count": 18,
      "outputs": [
        {
          "output_type": "stream",
          "name": "stdout",
          "text": [
            "Drive already mounted at /content/drive; to attempt to forcibly remount, call drive.mount(\"/content/drive\", force_remount=True).\n"
          ]
        }
      ]
    },
    {
      "cell_type": "code",
      "source": [
        "data= pd.read_csv('/content/drive/MyDrive/AudioClassification-MLSP/Audio_Classification-MLSP/annotations.csv')\n",
        "file_names = data.fname\n",
        "labels = data.label\n",
        "labels = labels.to_numpy()\n",
        "labels=pd.get_dummies(labels)\n",
        "data = []\n",
        "for i in file_names:\n",
        "    address = '/content/drive/MyDrive/AudioClassification-MLSP/Audio_Classification-MLSP/train/' + i\n",
        "    data.append(np.load(address))"
      ],
      "metadata": {
        "id": "7WbtLwH41nA8"
      },
      "execution_count": 19,
      "outputs": []
    },
    {
      "cell_type": "code",
      "source": [
        "for i in range(1000):\n",
        "  data[i] = np.concatenate((data[i], np.zeros(shape=(1, 128, 2584-data[i].shape[2]))), axis = 2)\n",
        "  data[i] = data[i].flatten()"
      ],
      "metadata": {
        "id": "wna7Ja4u2pYR"
      },
      "execution_count": 20,
      "outputs": []
    },
    {
      "cell_type": "code",
      "source": [
        "mfcc_data = []\n",
        "for i in range(1000):\n",
        "  mfccs_features = librosa.feature.mfcc(y=data[i],sr = 44100,  n_fft = 2048, hop_length = 512,  n_mfcc=128 , window =\"hann\")\n",
        "  mfccs_features = mfccs_features / np.max(np.abs(mfccs_features))\n",
        "  mfcc_data.append(mfccs_features)\n",
        "mfcc_data = np.asarray(mfcc_data)"
      ],
      "metadata": {
        "id": "CTl3wBri4Rp2"
      },
      "execution_count": 21,
      "outputs": []
    },
    {
      "cell_type": "code",
      "source": [
        "new_data = np.empty((1000, 128, 647, 1))\n",
        "for i in range(1000):\n",
        "  new_data = mfcc_data.reshape(1000, 128, 647, 1)"
      ],
      "metadata": {
        "id": "mqO5rk314xBd"
      },
      "execution_count": 22,
      "outputs": []
    },
    {
      "cell_type": "code",
      "source": [
        "import os \n",
        "from os import listdir\n",
        "f = []\n",
        "f = listdir('/content/drive/MyDrive/Audio_Classification-MLSP-test')"
      ],
      "metadata": {
        "id": "D3rIUfqpH0Cd"
      },
      "execution_count": 23,
      "outputs": []
    },
    {
      "cell_type": "code",
      "source": [
        "test = []\n",
        "for i in f:\n",
        "    address = '/content/drive/MyDrive/Audio_Classification-MLSP-test/' + i\n",
        "    test.append(np.load(address))"
      ],
      "metadata": {
        "id": "DOIWq4myH5kz"
      },
      "execution_count": 24,
      "outputs": []
    },
    {
      "cell_type": "code",
      "source": [
        "for i in range(201):\n",
        "  test[i] = np.concatenate((test[i], np.zeros(shape=(1, 128, 2584-test[i].shape[2]))), axis = 2)\n",
        "  test[i] = test[i].flatten()"
      ],
      "metadata": {
        "id": "ms5too7SH-Di"
      },
      "execution_count": 25,
      "outputs": []
    },
    {
      "cell_type": "code",
      "source": [
        "test_data = []\n",
        "for i in range(201):\n",
        "  mfccs_features = librosa.feature.mfcc(y=test[i],sr = 44100,  n_fft = 2048, hop_length = 512,  n_mfcc=128 , window =\"hann\")\n",
        "  mfccs_features = mfccs_features / np.max(np.abs(mfccs_features))\n",
        "  test_data.append(mfccs_features)\n",
        "test_data = np.asarray(test_data)"
      ],
      "metadata": {
        "id": "NkOn_-InIEwi"
      },
      "execution_count": 26,
      "outputs": []
    },
    {
      "cell_type": "code",
      "source": [
        "test_data = np.empty((1000, 128, 647, 1))\n",
        "for i in range(201):\n",
        "  test_data = test_data.reshape(1000, 128, 647, 1)"
      ],
      "metadata": {
        "id": "-ht1yNZTIPh-"
      },
      "execution_count": 27,
      "outputs": []
    },
    {
      "cell_type": "code",
      "source": [
        "# from sklearn.model_selection import train_test_split\n",
        "# test_x, train_x, test_y, train_y = train_test_split(new_data, labels, test_size = 0.95, random_state = 0)\n",
        "train_x = new_data\n",
        "test_x = test_data"
      ],
      "metadata": {
        "id": "sjyk9SR442kw"
      },
      "execution_count": 28,
      "outputs": []
    },
    {
      "cell_type": "code",
      "source": [
        "model =  models.Sequential([   \n",
        "                          layers.Conv2D(32 , (3,3),activation = 'relu',padding='valid', input_shape = (128, 647, 1)),  \n",
        "                          layers.MaxPooling2D(2, padding='same'),\n",
        "                          layers.Dropout(0.2),\n",
        "                          layers.Conv2D(64, (3,3), activation='relu',padding='valid'),\n",
        "                          layers.MaxPooling2D(2, padding='same'),\n",
        "                          layers.Dropout(0.2),\n",
        "                          layers.Conv2D(64, (3,3), activation='relu',padding='valid'),\n",
        "                          layers.MaxPooling2D(2, padding='same'),\n",
        "                          layers.Flatten(),\n",
        "                          layers.Dense(64 , activation = 'relu'),\n",
        "                          layers.Dense(10 , activation = 'softmax')\n",
        "])\n",
        "\n",
        "model.compile(loss = 'categorical_crossentropy', optimizer = 'adam', metrics = 'acc')\n",
        "model.summary()"
      ],
      "metadata": {
        "colab": {
          "base_uri": "https://localhost:8080/"
        },
        "id": "r-c4Ie246Q8e",
        "outputId": "0f8cd37c-3717-40f3-c2b9-17e433d83ebd"
      },
      "execution_count": 29,
      "outputs": [
        {
          "output_type": "stream",
          "name": "stdout",
          "text": [
            "Model: \"sequential_1\"\n",
            "_________________________________________________________________\n",
            " Layer (type)                Output Shape              Param #   \n",
            "=================================================================\n",
            " conv2d_3 (Conv2D)           (None, 126, 645, 32)      320       \n",
            "                                                                 \n",
            " max_pooling2d_3 (MaxPooling  (None, 63, 323, 32)      0         \n",
            " 2D)                                                             \n",
            "                                                                 \n",
            " dropout_2 (Dropout)         (None, 63, 323, 32)       0         \n",
            "                                                                 \n",
            " conv2d_4 (Conv2D)           (None, 61, 321, 64)       18496     \n",
            "                                                                 \n",
            " max_pooling2d_4 (MaxPooling  (None, 31, 161, 64)      0         \n",
            " 2D)                                                             \n",
            "                                                                 \n",
            " dropout_3 (Dropout)         (None, 31, 161, 64)       0         \n",
            "                                                                 \n",
            " conv2d_5 (Conv2D)           (None, 29, 159, 64)       36928     \n",
            "                                                                 \n",
            " max_pooling2d_5 (MaxPooling  (None, 15, 80, 64)       0         \n",
            " 2D)                                                             \n",
            "                                                                 \n",
            " flatten_1 (Flatten)         (None, 76800)             0         \n",
            "                                                                 \n",
            " dense_2 (Dense)             (None, 64)                4915264   \n",
            "                                                                 \n",
            " dense_3 (Dense)             (None, 10)                650       \n",
            "                                                                 \n",
            "=================================================================\n",
            "Total params: 4,971,658\n",
            "Trainable params: 4,971,658\n",
            "Non-trainable params: 0\n",
            "_________________________________________________________________\n"
          ]
        }
      ]
    },
    {
      "cell_type": "code",
      "source": [
        "model.fit(train_x, labels, batch_size=32, epochs=30 , verbose = 2)"
      ],
      "metadata": {
        "colab": {
          "base_uri": "https://localhost:8080/"
        },
        "id": "zr6YTfG-6Ubn",
        "outputId": "f572480f-4744-4e20-fc5b-3456c200ff98"
      },
      "execution_count": 30,
      "outputs": [
        {
          "output_type": "stream",
          "name": "stdout",
          "text": [
            "Epoch 1/30\n",
            "32/32 - 3s - loss: 2.2751 - acc: 0.1540 - 3s/epoch - 103ms/step\n",
            "Epoch 2/30\n",
            "32/32 - 3s - loss: 2.0361 - acc: 0.2910 - 3s/epoch - 79ms/step\n",
            "Epoch 3/30\n",
            "32/32 - 3s - loss: 1.5805 - acc: 0.5060 - 3s/epoch - 79ms/step\n",
            "Epoch 4/30\n",
            "32/32 - 3s - loss: 1.1224 - acc: 0.6580 - 3s/epoch - 79ms/step\n",
            "Epoch 5/30\n",
            "32/32 - 3s - loss: 0.8621 - acc: 0.7260 - 3s/epoch - 79ms/step\n",
            "Epoch 6/30\n",
            "32/32 - 3s - loss: 0.6342 - acc: 0.8110 - 3s/epoch - 79ms/step\n",
            "Epoch 7/30\n",
            "32/32 - 3s - loss: 0.4982 - acc: 0.8550 - 3s/epoch - 79ms/step\n",
            "Epoch 8/30\n",
            "32/32 - 3s - loss: 0.3383 - acc: 0.8960 - 3s/epoch - 79ms/step\n",
            "Epoch 9/30\n",
            "32/32 - 3s - loss: 0.3214 - acc: 0.9000 - 3s/epoch - 79ms/step\n",
            "Epoch 10/30\n",
            "32/32 - 3s - loss: 0.1648 - acc: 0.9580 - 3s/epoch - 79ms/step\n",
            "Epoch 11/30\n",
            "32/32 - 3s - loss: 0.0890 - acc: 0.9740 - 3s/epoch - 80ms/step\n",
            "Epoch 12/30\n",
            "32/32 - 3s - loss: 0.1839 - acc: 0.9440 - 3s/epoch - 80ms/step\n",
            "Epoch 13/30\n",
            "32/32 - 3s - loss: 0.1062 - acc: 0.9680 - 3s/epoch - 79ms/step\n",
            "Epoch 14/30\n",
            "32/32 - 3s - loss: 0.0435 - acc: 0.9920 - 3s/epoch - 79ms/step\n",
            "Epoch 15/30\n",
            "32/32 - 3s - loss: 0.0346 - acc: 0.9930 - 3s/epoch - 80ms/step\n",
            "Epoch 16/30\n",
            "32/32 - 3s - loss: 0.0170 - acc: 0.9980 - 3s/epoch - 80ms/step\n",
            "Epoch 17/30\n",
            "32/32 - 3s - loss: 0.0103 - acc: 0.9980 - 3s/epoch - 80ms/step\n",
            "Epoch 18/30\n",
            "32/32 - 3s - loss: 0.0094 - acc: 0.9980 - 3s/epoch - 80ms/step\n",
            "Epoch 19/30\n",
            "32/32 - 3s - loss: 0.0044 - acc: 1.0000 - 3s/epoch - 80ms/step\n",
            "Epoch 20/30\n",
            "32/32 - 3s - loss: 0.0029 - acc: 1.0000 - 3s/epoch - 80ms/step\n",
            "Epoch 21/30\n",
            "32/32 - 3s - loss: 0.0017 - acc: 1.0000 - 3s/epoch - 80ms/step\n",
            "Epoch 22/30\n",
            "32/32 - 3s - loss: 0.0017 - acc: 1.0000 - 3s/epoch - 80ms/step\n",
            "Epoch 23/30\n",
            "32/32 - 3s - loss: 0.0011 - acc: 1.0000 - 3s/epoch - 80ms/step\n",
            "Epoch 24/30\n",
            "32/32 - 3s - loss: 0.0012 - acc: 1.0000 - 3s/epoch - 80ms/step\n",
            "Epoch 25/30\n",
            "32/32 - 3s - loss: 0.0015 - acc: 1.0000 - 3s/epoch - 80ms/step\n",
            "Epoch 26/30\n",
            "32/32 - 3s - loss: 0.0049 - acc: 0.9990 - 3s/epoch - 80ms/step\n",
            "Epoch 27/30\n",
            "32/32 - 3s - loss: 0.0178 - acc: 0.9930 - 3s/epoch - 80ms/step\n",
            "Epoch 28/30\n",
            "32/32 - 3s - loss: 0.0052 - acc: 0.9990 - 3s/epoch - 80ms/step\n",
            "Epoch 29/30\n",
            "32/32 - 3s - loss: 0.0019 - acc: 1.0000 - 3s/epoch - 80ms/step\n",
            "Epoch 30/30\n",
            "32/32 - 3s - loss: 9.7183e-04 - acc: 1.0000 - 3s/epoch - 80ms/step\n"
          ]
        },
        {
          "output_type": "execute_result",
          "data": {
            "text/plain": [
              "<keras.callbacks.History at 0x7f12201f3b90>"
            ]
          },
          "metadata": {},
          "execution_count": 30
        }
      ]
    },
    {
      "cell_type": "code",
      "source": [
        "# model.evaluate(test_x, test_y)"
      ],
      "metadata": {
        "id": "CpOwstHF6Zej"
      },
      "execution_count": null,
      "outputs": []
    },
    {
      "cell_type": "code",
      "source": [
        "pred_y = model.predict(test_x)\n",
        "\n",
        "max_list = []\n",
        "max = 0\n",
        "for i in range(pred_y.shape[0]):\n",
        "  max_list.append(np.max(pred_y[i]))\n",
        "\n",
        "index_list = []\n",
        "for i in range(201):\n",
        "  for j in range(10):\n",
        "    if pred_y[i][j] == max_list[i]:\n",
        "      index_list.append(j)\n",
        "\n",
        "arr = []\n",
        "for i in range(201):\n",
        "  arr.append(labels.columns[index_list[i]])"
      ],
      "metadata": {
        "id": "8sjfAD_R69ZB"
      },
      "execution_count": 31,
      "outputs": []
    },
    {
      "cell_type": "code",
      "source": [
        "arr = pd.DataFrame(arr, columns=['predictions']).to_csv('/content/drive/MyDrive/Colab Notebooks/prediction.csv')"
      ],
      "metadata": {
        "id": "Z4mYnONlWGvF"
      },
      "execution_count": 32,
      "outputs": []
    },
    {
      "cell_type": "code",
      "source": [],
      "metadata": {
        "id": "RvERSqvPWnp8"
      },
      "execution_count": null,
      "outputs": []
    }
  ]
}